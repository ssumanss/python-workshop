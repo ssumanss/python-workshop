{
 "cells": [
  {
   "cell_type": "markdown",
   "source": [
    "<iframe width=\"704\" height=\"396\" src=\"https://www.youtube.com/embed/PeGdTwknIfI\" title=\"YouTube video player\" frameborder=\"0\" allow=\"accelerometer; autoplay; clipboard-write; encrypted-media; gyroscope; picture-in-picture\" allowfullscreen></iframe>\n",
    "\n",
    "## Starting Turtle Library \n",
    "\n",
    "At first we have to import `turtle` library. In order to import turtle library we will simply use `import turtle`."
   ],
   "metadata": {}
  },
  {
   "cell_type": "code",
   "execution_count": 1,
   "source": [
    "import turtle\n",
    "sandeep = turtle.Turtle()\n",
    "# Write your code here \n",
    "sandeep.forward(100)\n",
    "# In the end we have to write \n",
    "turtle.done()"
   ],
   "outputs": [],
   "metadata": {}
  },
  {
   "cell_type": "markdown",
   "source": [
    "The program creates a turtle named `sandeep`. It starts with the origin $(0,0)$ and moves toward the right $100px$. The image looks as follows\n",
    "\n",
    "![img](./image/image1.jpg)\n",
    "\n",
    "So basically turtle traces a path according to given instruction. \n",
    "\n",
    "Similar to `forward`, we can use the following functions to control our drawing according to the name.\n",
    "\n",
    "- Forward: used as `sandeep.forward(100)` to move $100px$ in forward direction.\n",
    "- Backward: used as `sandeep.backward(100)` to move $100px$ in backward direction. \n",
    "- Left: used as `sandeep.left(60)` to turn $60^\\circ$ towards left.\n",
    "- Right: used as `sandeep.right(60)` to turn $60^\\circ$ towards right.\n",
    "\n",
    "We can directly go to a specified coordinate using `goto` function as `sandeep.goto(100, 100)`\n",
    "\n",
    "### Creating a Square \n",
    "\n",
    "We can use these basic knowledge to draw a square as follows. "
   ],
   "metadata": {}
  },
  {
   "cell_type": "code",
   "execution_count": 1,
   "source": [
    "import turtle\n",
    "sandeep = turtle.Turtle()\n",
    "# Write your code here \n",
    "sandeep.forward(100)\n",
    "sandeep.left(90)\n",
    "sandeep.forward(100)\n",
    "sandeep.left(90)\n",
    "sandeep.forward(100)\n",
    "sandeep.left(90)\n",
    "sandeep.forward(100)\n",
    "# In the end we have to write \n",
    "turtle.done()"
   ],
   "outputs": [],
   "metadata": {}
  },
  {
   "cell_type": "markdown",
   "source": [],
   "metadata": {}
  },
  {
   "cell_type": "markdown",
   "source": [
    "![img2](./image/image2.jpg)\n",
    "\n",
    "We can see that there is a loop in the program, so we can use loop to make it short. "
   ],
   "metadata": {}
  },
  {
   "cell_type": "markdown",
   "source": [],
   "metadata": {}
  },
  {
   "cell_type": "code",
   "execution_count": 1,
   "source": [
    "import turtle\n",
    "sandeep = turtle.Turtle()\n",
    "# Write your code here \n",
    "for i in range(4):\n",
    "    sandeep.forward(100)\n",
    "    sandeep.left(90)\n",
    "# In the end we have to write \n",
    "turtle.done()"
   ],
   "outputs": [],
   "metadata": {}
  },
  {
   "cell_type": "markdown",
   "source": [
    "Now we can use function to create a square and then use that function to create more complicated shapes based on square. "
   ],
   "metadata": {}
  },
  {
   "cell_type": "code",
   "execution_count": 1,
   "source": [
    "import turtle\n",
    "sandeep = turtle.Turtle()\n",
    "# Write your code here \n",
    "def square():\n",
    "    for i in range(4):\n",
    "        sandeep.forward(100)\n",
    "        sandeep.left(90)\n",
    "\n",
    "for i in range (18):\n",
    "    square()\n",
    "    sandeep.left(20)\n",
    "# In the end we have to write \n",
    "cv = turtle.getcanvas()\n",
    "cv.postscript(file=\"file_name.ps\", colormode='color')\n",
    "turtle.done()"
   ],
   "outputs": [],
   "metadata": {}
  },
  {
   "cell_type": "markdown",
   "source": [
    "![img3](./image/image3.jpg)"
   ],
   "metadata": {}
  },
  {
   "cell_type": "markdown",
   "source": [],
   "metadata": {}
  }
 ],
 "metadata": {
  "orig_nbformat": 4,
  "language_info": {
   "name": "python",
   "version": "3.9.7",
   "mimetype": "text/x-python",
   "codemirror_mode": {
    "name": "ipython",
    "version": 3
   },
   "pygments_lexer": "ipython3",
   "nbconvert_exporter": "python",
   "file_extension": ".py"
  },
  "kernelspec": {
   "name": "python3",
   "display_name": "Python 3.9.7 64-bit ('turtle': pyenv)"
  },
  "interpreter": {
   "hash": "4683dd05d4d3f3404d452f855b6fc1ceb046c9258fb9678b82bb6964256de2a4"
  }
 },
 "nbformat": 4,
 "nbformat_minor": 2
}